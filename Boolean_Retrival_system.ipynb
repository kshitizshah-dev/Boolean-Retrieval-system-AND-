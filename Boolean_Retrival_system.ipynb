{
  "nbformat": 4,
  "nbformat_minor": 0,
  "metadata": {
    "colab": {
      "provenance": []
    },
    "kernelspec": {
      "name": "python3",
      "display_name": "Python 3"
    },
    "language_info": {
      "name": "python"
    }
  },
  "cells": [
    {
      "cell_type": "code",
      "source": [
        "nltk.download('stopwords')"
      ],
      "metadata": {
        "colab": {
          "base_uri": "https://localhost:8080/"
        },
        "id": "IizTNR1E1gKq",
        "outputId": "a9830f8b-2ef0-4a6a-8274-8bf6bc843f33"
      },
      "execution_count": 213,
      "outputs": [
        {
          "output_type": "stream",
          "name": "stderr",
          "text": [
            "[nltk_data] Downloading package stopwords to /root/nltk_data...\n",
            "[nltk_data]   Package stopwords is already up-to-date!\n"
          ]
        },
        {
          "output_type": "execute_result",
          "data": {
            "text/plain": [
              "True"
            ]
          },
          "metadata": {},
          "execution_count": 213
        }
      ]
    },
    {
      "cell_type": "code",
      "source": [
        "nltk.download('wordnet')"
      ],
      "metadata": {
        "colab": {
          "base_uri": "https://localhost:8080/"
        },
        "id": "V04U8GCn6Sm9",
        "outputId": "f6600ea2-2e06-41c9-de82-258bd3924f78"
      },
      "execution_count": 214,
      "outputs": [
        {
          "output_type": "stream",
          "name": "stderr",
          "text": [
            "[nltk_data] Downloading package wordnet to /root/nltk_data...\n",
            "[nltk_data]   Package wordnet is already up-to-date!\n"
          ]
        },
        {
          "output_type": "execute_result",
          "data": {
            "text/plain": [
              "True"
            ]
          },
          "metadata": {},
          "execution_count": 214
        }
      ]
    },
    {
      "cell_type": "code",
      "execution_count": 215,
      "metadata": {
        "id": "DR1FSKA6upXL"
      },
      "outputs": [],
      "source": [
        "import numpy as np\n",
        "import scipy as special\n",
        "import nltk\n",
        "import re\n",
        "from nltk.corpus import stopwords\n",
        "from nltk.stem import WordNetLemmatizer\n",
        "from collections import defaultdict\n",
        "import os"
      ]
    },
    {
      "cell_type": "code",
      "source": [
        "nltk.download('punkt')"
      ],
      "metadata": {
        "colab": {
          "base_uri": "https://localhost:8080/"
        },
        "id": "B1SHjP-hFdjB",
        "outputId": "0799ddb3-7390-4d9b-cbc7-e2032ec9b402"
      },
      "execution_count": 216,
      "outputs": [
        {
          "output_type": "stream",
          "name": "stderr",
          "text": [
            "[nltk_data] Downloading package punkt to /root/nltk_data...\n",
            "[nltk_data]   Package punkt is already up-to-date!\n"
          ]
        },
        {
          "output_type": "execute_result",
          "data": {
            "text/plain": [
              "True"
            ]
          },
          "metadata": {},
          "execution_count": 216
        }
      ]
    },
    {
      "cell_type": "code",
      "source": [
        "def remove_special(text):\n",
        "  special='''!()-[]{};:'\"\\,<>./?@#$%^&*_~ðÿ˜¡'''\n",
        "  for i in text:\n",
        "    if i in special:\n",
        "      text=text.replace(i,'')\n",
        "  return text"
      ],
      "metadata": {
        "id": "-L6toSiLwhLJ"
      },
      "execution_count": 217,
      "outputs": []
    },
    {
      "cell_type": "code",
      "source": [
        "def remove_url(text):\n",
        "  url = re.compile(r'https?://\\S+|www\\.\\S+')\n",
        "  return url.sub(r'',text)"
      ],
      "metadata": {
        "id": "LMXc3nQaz2Tj"
      },
      "execution_count": 218,
      "outputs": []
    },
    {
      "cell_type": "code",
      "source": [
        "def remove_number(text):\n",
        "  text = re.sub(r'\\d+', '', text)\n",
        "  return text"
      ],
      "metadata": {
        "id": "ZCTCZZjt0qyz"
      },
      "execution_count": 219,
      "outputs": []
    },
    {
      "cell_type": "code",
      "source": [
        "stop_words = stopwords.words('english')\n",
        "def remove_stopwords(text):\n",
        "  text = [word for word in text if word not in stop_words]\n",
        "  return text"
      ],
      "metadata": {
        "id": "f68x1crR28Ze"
      },
      "execution_count": 220,
      "outputs": []
    },
    {
      "cell_type": "markdown",
      "source": [
        "final funtion\n"
      ],
      "metadata": {
        "id": "r0BR5K4pwiBR"
      }
    },
    {
      "cell_type": "code",
      "source": [
        "wnl = WordNetLemmatizer()\n",
        "def word_limitizer(text):\n",
        "  text = [wnl.lemmatize(word) for word in text]\n",
        "  return text"
      ],
      "metadata": {
        "id": "td1V00ZA6dq8"
      },
      "execution_count": 221,
      "outputs": []
    },
    {
      "cell_type": "code",
      "source": [
        "def text_retrival(query):\n",
        "  query = query.lower()\n",
        "  query = remove_url(query)\n",
        "  query = remove_special(query)\n",
        "  query = remove_number(query)\n",
        "  query = nltk.word_tokenize(query)\n",
        "  query = remove_stopwords(query)\n",
        "  query = word_limitizer(query)\n",
        "\n",
        "  return query"
      ],
      "metadata": {
        "id": "pZvT1pRowXL2"
      },
      "execution_count": 222,
      "outputs": []
    },
    {
      "cell_type": "code",
      "source": [
        "text_retrival('hello a an @hi 234 cats')"
      ],
      "metadata": {
        "colab": {
          "base_uri": "https://localhost:8080/"
        },
        "id": "Kn2Brl-c1D1E",
        "outputId": "3b62eaa1-0b20-4c5f-9b4e-5532d2204691"
      },
      "execution_count": 223,
      "outputs": [
        {
          "output_type": "execute_result",
          "data": {
            "text/plain": [
              "['hello', 'hi', 'cat']"
            ]
          },
          "metadata": {},
          "execution_count": 223
        }
      ]
    },
    {
      "cell_type": "markdown",
      "source": [
        "Cellection\n",
        "OS\n",
        "shuthing\n",
        "lregex\n"
      ],
      "metadata": {
        "id": "n3v9ox8I-WP-"
      }
    },
    {
      "cell_type": "markdown",
      "source": [
        "<h2>Preprocessing final</h2>"
      ],
      "metadata": {
        "id": "Pr1QkXburucT"
      }
    },
    {
      "cell_type": "code",
      "source": [
        "def build_inverted_index(documents):\n",
        "    inverted_index = defaultdict(list)\n",
        "\n",
        "    for doc_id, document in enumerate(documents):\n",
        "        processed_doc = text_retrival(document)\n",
        "        for word in set(processed_doc):\n",
        "            inverted_index[word].append(doc_id)\n",
        "\n",
        "    return inverted_index\n",
        "\n"
      ],
      "metadata": {
        "id": "YrVtZc5F-XNN"
      },
      "execution_count": 224,
      "outputs": []
    },
    {
      "cell_type": "code",
      "source": [
        "def read_documents_from_files(folder_path):\n",
        "    if not os.path.exists(folder_path):\n",
        "        raise FileNotFoundError(f\"'{folder_path}' not found.\")\n",
        "\n",
        "    files = [f for f in os.listdir(folder_path) if f.endswith(\".txt\")]\n",
        "    return [open(os.path.join(folder_path, f), 'r', encoding='utf-8').read() for f in files], files\n",
        "folder_path = \"/content/story/\"\n",
        "documents, file_names = read_documents_from_files(folder_path)"
      ],
      "metadata": {
        "id": "K1VliCR2uFZV"
      },
      "execution_count": 225,
      "outputs": []
    },
    {
      "cell_type": "code",
      "source": [
        "\n"
      ],
      "metadata": {
        "id": "AbzLGmnc9rNb"
      },
      "execution_count": 226,
      "outputs": []
    },
    {
      "cell_type": "code",
      "source": [
        "\n",
        "def boolean_and_search(query, inverted_index, documents):\n",
        "    query_terms = text_retrival(query)\n",
        "\n",
        "    doc_lists = [set(inverted_index[term]) for term in query_terms if term in inverted_index]\n",
        "\n",
        "    if not doc_lists:\n",
        "        return []\n",
        "\n",
        "    matching_docs = set.intersection(*doc_lists)\n",
        "\n",
        "\n",
        "    return matching_docs"
      ],
      "metadata": {
        "id": "RxktaBlR9p9k"
      },
      "execution_count": 236,
      "outputs": []
    },
    {
      "cell_type": "code",
      "source": [
        "inverted_index = build_inverted_index(documents)\n",
        "inverted_index"
      ],
      "metadata": {
        "id": "rTnUAWicsEqV",
        "colab": {
          "base_uri": "https://localhost:8080/"
        },
        "outputId": "a8affe72-f455-4bff-88b2-a124bb62d6e7"
      },
      "execution_count": 228,
      "outputs": [
        {
          "output_type": "execute_result",
          "data": {
            "text/plain": [
              "defaultdict(list,\n",
              "            {'turning': [0],\n",
              "             'place': [0],\n",
              "             'came': [0],\n",
              "             'decided': [0, 2],\n",
              "             'lighting': [0],\n",
              "             'hard': [0],\n",
              "             'moon': [0, 3],\n",
              "             'sun': [0],\n",
              "             'beautiful': [0],\n",
              "             'shining': [0],\n",
              "             'evening': [0, 3],\n",
              "             'sky': [0, 2, 3, 4],\n",
              "             'good': [0],\n",
              "             'orange': [0],\n",
              "             'would': [0, 2],\n",
              "             'see': [0],\n",
              "             'morning': [0],\n",
              "             'day': [0, 2],\n",
              "             'shade': [0],\n",
              "             'whispered': [0, 1],\n",
              "             'sleep': [0, 2, 4],\n",
              "             'stretching': [0],\n",
              "             'horizon': [0],\n",
              "             'pink': [0],\n",
              "             'take': [0, 1],\n",
              "             'night': [0, 1, 2, 3, 4],\n",
              "             'brightly': [0],\n",
              "             'sleepy': [0, 2],\n",
              "             'worked': [0],\n",
              "             'everyone': [0, 3],\n",
              "             'rise': [0],\n",
              "             'yawning': [0],\n",
              "             'slowly': [0],\n",
              "             'took': [0],\n",
              "             'sank': [0],\n",
              "             'knew': [0],\n",
              "             'goodnight': [0],\n",
              "             'grew': [0],\n",
              "             'tired': [0],\n",
              "             'rest': [0],\n",
              "             'title': [0, 1, 2, 3, 4],\n",
              "             'said': [1, 3],\n",
              "             'smiled': [1, 3],\n",
              "             'hope': [1],\n",
              "             'loved': [1],\n",
              "             'lily': [1],\n",
              "             'big': [1],\n",
              "             'cloud': [1],\n",
              "             'fast': [1],\n",
              "             'flying': [1],\n",
              "             'soaring': [1],\n",
              "             'soon': [1, 4],\n",
              "             'magical': [1],\n",
              "             'asleep': [1, 3],\n",
              "             'found': [1, 2],\n",
              "             'anywhere': [1],\n",
              "             'knowing': [1, 4],\n",
              "             'closed': [1, 4],\n",
              "             'even': [1],\n",
              "             'one': [1, 2, 3, 4],\n",
              "             'eye': [1, 4],\n",
              "             'adventure': [1],\n",
              "             '’': [1, 4],\n",
              "             'woke': [1],\n",
              "             'fall': [1, 3],\n",
              "             'could': [1],\n",
              "             'dream': [1, 2],\n",
              "             'go': [1],\n",
              "             'tonight': [1],\n",
              "             'dancing': [1],\n",
              "             'forest': [1, 2],\n",
              "             'seem': [1],\n",
              "             'fairy': [1],\n",
              "             'dragon': [1],\n",
              "             'felt': [2, 4],\n",
              "             'wide': [2],\n",
              "             'couldnt': [2],\n",
              "             'fly': [2],\n",
              "             'owl': [2],\n",
              "             'high': [2],\n",
              "             'eyelid': [2],\n",
              "             'way': [2],\n",
              "             'curl': [2],\n",
              "             'awake': [2],\n",
              "             'rocked': [2],\n",
              "             'breeze': [2],\n",
              "             'little': [2, 3, 4],\n",
              "             'heavy': [2],\n",
              "             'gentle': [2],\n",
              "             'animal': [2],\n",
              "             'grow': [2],\n",
              "             'quiet': [2],\n",
              "             'cradled': [2],\n",
              "             '—': [2],\n",
              "             'long': [2],\n",
              "             'drift': [2],\n",
              "             'lived': [2, 3],\n",
              "             'star': [2, 3, 4],\n",
              "             'softly': [2],\n",
              "             'helping': [3],\n",
              "             'dark': [3, 4],\n",
              "             'twinkling': [3],\n",
              "             'lonely': [3],\n",
              "             'glowing': [3],\n",
              "             'peace': [3],\n",
              "             'together': [3],\n",
              "             'time': [3],\n",
              "             'best': [3],\n",
              "             'course': [3],\n",
              "             'friend': [3],\n",
              "             'asked': [3],\n",
              "             'light': [3],\n",
              "             'upon': [3],\n",
              "             'grandmother': [4],\n",
              "             'watching': [4],\n",
              "             'always': [4],\n",
              "             'sam': [4],\n",
              "             'cozy': [4],\n",
              "             'warm': [4],\n",
              "             'safe': [4],\n",
              "             'every': [4],\n",
              "             'like': [4],\n",
              "             'soundly': [4],\n",
              "             'told': [4],\n",
              "             'boy': [4],\n",
              "             'scared': [4],\n",
              "             'slept': [4],\n",
              "             'starry': [4],\n",
              "             'keeping': [4],\n",
              "             'anymore': [4],\n",
              "             'named': [4],\n",
              "             'afraid': [4],\n",
              "             'blanket': [4],\n",
              "             'imagined': [4]})"
            ]
          },
          "metadata": {},
          "execution_count": 228
        }
      ]
    },
    {
      "cell_type": "code",
      "source": [
        "file_names"
      ],
      "metadata": {
        "colab": {
          "base_uri": "https://localhost:8080/"
        },
        "id": "Oe2S2yYpwuV-",
        "outputId": "71c3fac7-d5ba-472c-f3a7-a5484c318f4c"
      },
      "execution_count": 229,
      "outputs": [
        {
          "output_type": "execute_result",
          "data": {
            "text/plain": [
              "['bedtime_story_5.txt',\n",
              " 'bedtime_story_4.txt',\n",
              " 'bedtime_story_2.txt',\n",
              " 'bedtime_story_1.txt',\n",
              " 'bedtime_story_3.txt']"
            ]
          },
          "metadata": {},
          "execution_count": 229
        }
      ]
    },
    {
      "cell_type": "code",
      "source": [
        "documents"
      ],
      "metadata": {
        "id": "1aa5kruaujcr",
        "colab": {
          "base_uri": "https://localhost:8080/"
        },
        "outputId": "8baa1bd8-52ba-4863-bf2b-6399f2724cf7"
      },
      "execution_count": 230,
      "outputs": [
        {
          "output_type": "execute_result",
          "data": {
            "text/plain": [
              "['Title: The Sleepy Sun\\n\\nThe Sun worked hard all day, shining brightly for everyone to see. \\nBut as the evening came, the Sun grew tired and decided to take a rest. \\nIt slowly sank below the horizon, yawning and stretching, turning the sky beautiful shades \\nof orange and pink. \"Goodnight, everyone,\" whispered the Sun, and the Moon took its place, \\nlighting up the night. The Sun knew it would rise again in the morning, after a good night\\'s sleep.',\n",
              " 'Title: Lily\\'s Dream Adventure\\n\\nLily loved to dream, but one night, she couldn’t seem to fall asleep. \\nShe closed her eyes and whispered, \"I hope I go on a big adventure tonight.\" \\nAs soon as she said that, she found herself flying on a dragon, soaring through the clouds and \\ndancing with fairies in a magical forest. When Lily woke up, she smiled, knowing that dreams could \\ntake her anywhere, even when she was fast asleep.',\n",
              " \"Title: The Sleepy Owl\\n\\nIn a quiet forest, there lived a little owl who just couldn't sleep at night.\\nAll the other animals would curl up and drift into dreams, but the owl was wide awake. \\nOne night, the owl decided to fly high into the sky. There, the gentle breeze rocked it softly, \\nand before long, the owl felt its eyelids grow heavy. From that day on, the owl found its own \\nway to sleep — under the stars, cradled by the night breeze.\",\n",
              " 'Title: The Moon\\'s Best Friend\\n\\nOnce upon a time, there was a little star who lived in the night sky. \\nThe star was lonely, so one evening, it asked the Moon to be its friend. \\nThe Moon smiled and said, \"Of course, little star. You and I will light up the night together!\"\\nFrom that night on, the star and the Moon were best friends, twinkling and glowing in the dark sky, \\nhelping everyone below fall asleep in peace.',\n",
              " 'Title: The Blanket of Stars\\n\\nA little boy named Sam always felt a little scared of the dark. \\nOne night, his grandmother told him, \"When you sleep, the stars above are like a cozy blanket, \\nwatching over you.\" Sam closed his eyes and imagined the sky as a warm, starry blanket, and soon, \\nhe wasn’t afraid anymore. Every night after, Sam slept soundly, knowing the stars were always there, \\nkeeping him safe.']"
            ]
          },
          "metadata": {},
          "execution_count": 230
        }
      ]
    },
    {
      "cell_type": "code",
      "source": [
        "inverted_index = build_inverted_index(documents)\n",
        "\n"
      ],
      "metadata": {
        "id": "u6PhdPpeWOq0"
      },
      "execution_count": 231,
      "outputs": []
    },
    {
      "cell_type": "code",
      "source": [
        "query = '907slept s*oundly'\n",
        "\n",
        "results = boolean_and_search(query, inverted_index, documents)\n",
        "\n",
        "print(f\"your queary match in document in {results}\")"
      ],
      "metadata": {
        "colab": {
          "base_uri": "https://localhost:8080/"
        },
        "id": "ygTO47ZUt5CJ",
        "outputId": "7b51bff7-8950-4d0b-8abf-147cec4e599f"
      },
      "execution_count": 239,
      "outputs": [
        {
          "output_type": "stream",
          "name": "stdout",
          "text": [
            "your queary match in document in {4}\n"
          ]
        }
      ]
    },
    {
      "cell_type": "code",
      "source": [],
      "metadata": {
        "id": "rIS4ZIuNuNOz"
      },
      "execution_count": 232,
      "outputs": []
    },
    {
      "cell_type": "code",
      "source": [],
      "metadata": {
        "id": "mxwSRetsWQzD"
      },
      "execution_count": 232,
      "outputs": []
    },
    {
      "cell_type": "code",
      "source": [],
      "metadata": {
        "id": "QzinLwHpx6up"
      },
      "execution_count": 232,
      "outputs": []
    }
  ]
}